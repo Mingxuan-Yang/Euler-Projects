{
 "cells": [
  {
   "cell_type": "markdown",
   "metadata": {},
   "source": [
    "### Problem 25: 1000-digit Fibonacci number"
   ]
  },
  {
   "cell_type": "code",
   "execution_count": 1,
   "metadata": {},
   "outputs": [],
   "source": [
    "def Fibonacci_digit(n):\n",
    "    \"\"\"Return the index of the first term in the Fibonacci sequence to contain n digits.\n",
    "    \n",
    "    The Fibonacci sequence is defined by the recurrence relation:\n",
    "        F(n) = F(n-1) + F(n-2), where F(1) = F(2) = 1.\n",
    "    \n",
    "    Parameters\n",
    "    ----------\n",
    "    n : int\n",
    "        The resulting number of digits. The Fibonacci sequence at the resulting index is\n",
    "        desired to contain `n` digits.\n",
    "        \n",
    "    Returns\n",
    "    -------\n",
    "    int\n",
    "        The index of the first term in the Fibonacci sequence that contains `n` digits.\n",
    "        \n",
    "    Examples\n",
    "    --------\n",
    "    The index of the first term in the Fibonacci sequence containing 3 digits.\n",
    "\n",
    "    >>> Fibonacci_digit(3)\n",
    "    12\n",
    "    \n",
    "    The index of the first term in the Fibonacci sequence containing 1000 digits.\n",
    "    \n",
    "    >>> Fibonacci_digit(1000)\n",
    "    4782\n",
    "    \"\"\"\n",
    "    if n == 1:\n",
    "        return 1\n",
    "    \n",
    "    F = [1,1]\n",
    "    while len(str(F[-1])) < n:\n",
    "        F.append(F[-1] + F[-2])\n",
    "        \n",
    "    return F.index(F[-1]) + 1"
   ]
  },
  {
   "cell_type": "code",
   "execution_count": 2,
   "metadata": {},
   "outputs": [
    {
     "data": {
      "text/plain": [
       "(12, 4782)"
      ]
     },
     "execution_count": 2,
     "metadata": {},
     "output_type": "execute_result"
    }
   ],
   "source": [
    "Fibonacci_digit(3), Fibonacci_digit(1000)"
   ]
  },
  {
   "cell_type": "markdown",
   "metadata": {},
   "source": [
    "### Problem 31: Coin sums"
   ]
  },
  {
   "cell_type": "code",
   "execution_count": 3,
   "metadata": {},
   "outputs": [],
   "source": [
    "def coin_sum(coins, target):\n",
    "    \"\"\"Return the number of combinations of currency denominations.\n",
    "    \n",
    "    This function can be used to solve problems like how many different ways can the value\n",
    "    `target` be made using any number of values within `coins`.\n",
    "    \n",
    "    Parameters\n",
    "    ----------\n",
    "    coins : array_like\n",
    "        All possible values that can be used to make up the `target` value. These values \n",
    "        should be integers. In the context of currency denomination, all of the values \n",
    "        within `coins` should have the same units, which is also the minimum unit. For \n",
    "        example, if `coins` contains both penny and pound, the values should be represented\n",
    "        by pence unit, which accords with the integral requirement.\n",
    "        \n",
    "    target : int\n",
    "        The resulting total value. In the context of currency denomination, it needs to \n",
    "        have the same unit with values in `coins`.\n",
    "        \n",
    "    Returns\n",
    "    -------\n",
    "    int\n",
    "        The number of possible combinations to make up `target` using values in `coins`.\n",
    "        \n",
    "    Examples\n",
    "    --------\n",
    "    The number of different ways to make up 2 pounds using 8 possible coins: 1 penny, \n",
    "    2 pence, 5 pence, 10 pence, 20 pence, 50 pence, 1 pound, and 2 pounds.\n",
    "\n",
    "    >>> coin_sum([1, 2, 5, 10, 20, 50, 100, 200], 200)\n",
    "    73682\n",
    "    \"\"\"\n",
    "    numbers = [1]*(target + 1)\n",
    "    \n",
    "    for i in coins[1:]:\n",
    "        for j in range(i, target+1):\n",
    "            numbers[j] += numbers[j-i]\n",
    "            \n",
    "    return int(numbers[target])"
   ]
  },
  {
   "cell_type": "code",
   "execution_count": 4,
   "metadata": {},
   "outputs": [
    {
     "data": {
      "text/plain": [
       "73682"
      ]
     },
     "execution_count": 4,
     "metadata": {},
     "output_type": "execute_result"
    }
   ],
   "source": [
    "coin_sum([1, 2, 5, 10, 20, 50, 100, 200], 200)"
   ]
  },
  {
   "cell_type": "markdown",
   "metadata": {},
   "source": [
    "### Problem 85: Counting rectangles"
   ]
  },
  {
   "cell_type": "code",
   "execution_count": 5,
   "metadata": {},
   "outputs": [],
   "source": [
    "def counting(target, max_width = None, max_length = None):\n",
    "    \"\"\"Return the area of the grid with the nearest number of possible rectangles compared \n",
    "    with `target`.\n",
    "    \n",
    "    The sides of the grid and the possible rectangles are integers that are equal or greater \n",
    "    than 1. If there exists a grid which contains exactly `target` number of rectangles, the \n",
    "    corresponding area will be the returning result. Otherwise, the area of the grid \n",
    "    containing the closest number will be returned.\n",
    "    \n",
    "    Parameters\n",
    "    ----------\n",
    "    target : int\n",
    "        The desired number of possible rectangles. It should be positive. If no grid has \n",
    "        exactly `target` number of rectangles, the grid containing the closest number will \n",
    "        be applied.\n",
    "        \n",
    "    max_width : int, optional\n",
    "        The maximum width of the resulting grid. It should be positive. If `max_width` is not \n",
    "        given, the value ⌈(4n)^(1/4)⌉, where n is the value of \n",
    "        `target`, will be employed based on the following formula.\n",
    "        \n",
    "            n = x(x + 1)y(y + 1)/4\n",
    "        \n",
    "        Here x and y represent the width and length of the grid. y is implicitly larger \n",
    "        than x. Therefore, the maximum value of x is equal to y. After calculation, it \n",
    "        should be approximately ⌈(4n)^(1/4)⌉.\n",
    "        \n",
    "    max_length : int, optional\n",
    "        The maximum length of the resulting grid. It should be positive. If `max_length` is \n",
    "        not given, the value ⌈(2n)^(1/2)⌉, where n is the value of \n",
    "        `target`, will be employed based on the following formula.\n",
    "        \n",
    "            n = x(x + 1)y(y + 1)/4\n",
    "        \n",
    "        Here x and y represent the width and length of the grid. y is implicitly larger \n",
    "        than x. When x is equal to 1, y will reach its maximum value. After calculation, \n",
    "        it should be approximately ⌈(2n)^(1/2)⌉.\n",
    "        \n",
    "    Returns\n",
    "    -------\n",
    "    int\n",
    "        The area of the grid which has the nearest number of possible rectangles compared \n",
    "        with `target`.\n",
    "        \n",
    "    Examples\n",
    "    --------\n",
    "    The area of the grid with almost two millions number of possible rectangles.\n",
    "\n",
    "    >>> counting(2000000)\n",
    "    2772\n",
    "    \"\"\"\n",
    "    if not max_width:\n",
    "        max_width = int((4*target)**(1/4) // 1 + 1)\n",
    "    if not max_length:\n",
    "        max_length = int((2*target)**(1/2) // 1 + 1)\n",
    "    diff_min = target\n",
    "    \n",
    "    for i in range(1, max_width + 1):\n",
    "        for j in range(i, max_length + 1):\n",
    "            diff = abs(i*(i+1)*j*(j+1)/4 - target)\n",
    "            if diff < diff_min:\n",
    "                area, diff_min = i*j, diff\n",
    "    \n",
    "    return area"
   ]
  },
  {
   "cell_type": "code",
   "execution_count": 6,
   "metadata": {},
   "outputs": [
    {
     "data": {
      "text/plain": [
       "2772"
      ]
     },
     "execution_count": 6,
     "metadata": {},
     "output_type": "execute_result"
    }
   ],
   "source": [
    "counting(2000000)"
   ]
  }
 ],
 "metadata": {
  "kernelspec": {
   "display_name": "Python 3",
   "language": "python",
   "name": "python3"
  },
  "language_info": {
   "codemirror_mode": {
    "name": "ipython",
    "version": 3
   },
   "file_extension": ".py",
   "mimetype": "text/x-python",
   "name": "python",
   "nbconvert_exporter": "python",
   "pygments_lexer": "ipython3",
   "version": "3.7.8"
  }
 },
 "nbformat": 4,
 "nbformat_minor": 4
}
